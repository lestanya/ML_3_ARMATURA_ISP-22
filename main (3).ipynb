{
  "nbformat": 4,
  "nbformat_minor": 0,
  "metadata": {
    "colab": {
      "provenance": []
    },
    "kernelspec": {
      "name": "python3",
      "display_name": "Python 3"
    },
    "language_info": {
      "name": "python"
    }
  },
  "cells": [
    {
      "cell_type": "code",
      "source": [
        "import requests\n",
        "from io import BytesIO"
      ],
      "metadata": {
        "id": "6sey0C5Zlabf"
      },
      "execution_count": 14,
      "outputs": []
    },
    {
      "cell_type": "code",
      "source": [
        "!pip install dill"
      ],
      "metadata": {
        "colab": {
          "base_uri": "https://localhost:8080/"
        },
        "id": "Igq334Yp5lBz",
        "outputId": "7b3c851e-4746-4a8b-f0d6-7e2faeadfc80"
      },
      "execution_count": 15,
      "outputs": [
        {
          "output_type": "stream",
          "name": "stdout",
          "text": [
            "Requirement already satisfied: dill in /usr/local/lib/python3.11/dist-packages (0.3.9)\n"
          ]
        }
      ]
    },
    {
      "cell_type": "markdown",
      "source": [
        "Заружаем нашу модель SARIMA вместе с готовой функцией\n"
      ],
      "metadata": {
        "id": "jQJcIOQOACXG"
      }
    },
    {
      "cell_type": "code",
      "execution_count": 16,
      "metadata": {
        "id": "Stc2I7ySip8R"
      },
      "outputs": [],
      "source": [
        "import dill\n",
        "\n",
        "with open('/content/drive/MyDrive/ML_3/model (1).pkl', 'rb') as f:\n",
        "  model_data = dill.load(f)"
      ]
    },
    {
      "cell_type": "markdown",
      "source": [
        "Разбиваем отдельно на модель отдельно на функцию"
      ],
      "metadata": {
        "id": "TkbsyMZ4AGwi"
      }
    },
    {
      "cell_type": "code",
      "source": [
        "model = model_data['model']\n",
        "predict_N = model_data['predict_N']"
      ],
      "metadata": {
        "id": "FNVcWhlsyWrf"
      },
      "execution_count": 17,
      "outputs": []
    },
    {
      "cell_type": "code",
      "source": [
        "model"
      ],
      "metadata": {
        "colab": {
          "base_uri": "https://localhost:8080/"
        },
        "id": "Z1f4d3Ip7Cma",
        "outputId": "3e0005f0-9f49-43cf-b329-d92feff3d468"
      },
      "execution_count": 18,
      "outputs": [
        {
          "output_type": "execute_result",
          "data": {
            "text/plain": [
              "<statsmodels.tsa.statespace.sarimax.SARIMAXResultsWrapper at 0x7c355366b510>"
            ]
          },
          "metadata": {},
          "execution_count": 18
        }
      ]
    },
    {
      "cell_type": "code",
      "source": [
        "predict_N"
      ],
      "metadata": {
        "colab": {
          "base_uri": "https://localhost:8080/"
        },
        "id": "W4nkQT877FXi",
        "outputId": "1c5e9bf4-ee93-48a2-bd1a-8f8a91bcc75a"
      },
      "execution_count": 19,
      "outputs": [
        {
          "output_type": "execute_result",
          "data": {
            "text/plain": [
              "<function __main__.predict_N_weeks(date, current_price, model, steps=6)>"
            ]
          },
          "metadata": {},
          "execution_count": 19
        }
      ]
    },
    {
      "cell_type": "code",
      "source": [
        "import pandas as pd\n",
        "import numpy as np"
      ],
      "metadata": {
        "id": "SvLa1vUG6d51"
      },
      "execution_count": 20,
      "outputs": []
    },
    {
      "cell_type": "code",
      "source": [
        "url = \"https://github.com/samoletpanfilov/reinforcement_task/raw/refs/heads/master/data/test.xlsx\"  # Ссылка должна содержать raw\n",
        "response = requests.get(url)\n",
        "test_table = pd.read_excel(BytesIO(response.content), engine='openpyxl')"
      ],
      "metadata": {
        "id": "hlkmeWFpaX3C"
      },
      "execution_count": 21,
      "outputs": []
    },
    {
      "cell_type": "markdown",
      "source": [
        "Предсказывем объем и сохраняем обратно в файл"
      ],
      "metadata": {
        "id": "sn_3PppYAK5Z"
      }
    },
    {
      "cell_type": "code",
      "source": [
        "N_values = []\n",
        "\n",
        "for date, row in test_table.iterrows():\n",
        "  N = predict_N(date, row['Цена на арматуру'], model)\n",
        "  N_values.append(N)\n",
        "\n",
        "test_table['Объем'] = N_values"
      ],
      "metadata": {
        "id": "GXQM5mQycv89"
      },
      "execution_count": 22,
      "outputs": []
    },
    {
      "cell_type": "code",
      "source": [
        "test_table.to_excel('sample_submission.xlsx', index=True)"
      ],
      "metadata": {
        "id": "5wKlrCkigC2w"
      },
      "execution_count": 23,
      "outputs": []
    },
    {
      "cell_type": "markdown",
      "source": [
        "Интерфейс"
      ],
      "metadata": {
        "id": "i-i9ZdA_V1Q6"
      }
    },
    {
      "cell_type": "code",
      "source": [
        "!pip install gradio"
      ],
      "metadata": {
        "colab": {
          "base_uri": "https://localhost:8080/"
        },
        "id": "rdcZu3p9-4rj",
        "outputId": "48d7b83d-7ed0-4ed3-c9b7-3133802ed5b8"
      },
      "execution_count": 24,
      "outputs": [
        {
          "output_type": "stream",
          "name": "stdout",
          "text": [
            "Requirement already satisfied: gradio in /usr/local/lib/python3.11/dist-packages (5.23.1)\n",
            "Requirement already satisfied: aiofiles<24.0,>=22.0 in /usr/local/lib/python3.11/dist-packages (from gradio) (23.2.1)\n",
            "Requirement already satisfied: anyio<5.0,>=3.0 in /usr/local/lib/python3.11/dist-packages (from gradio) (4.9.0)\n",
            "Requirement already satisfied: fastapi<1.0,>=0.115.2 in /usr/local/lib/python3.11/dist-packages (from gradio) (0.115.12)\n",
            "Requirement already satisfied: ffmpy in /usr/local/lib/python3.11/dist-packages (from gradio) (0.5.0)\n",
            "Requirement already satisfied: gradio-client==1.8.0 in /usr/local/lib/python3.11/dist-packages (from gradio) (1.8.0)\n",
            "Requirement already satisfied: groovy~=0.1 in /usr/local/lib/python3.11/dist-packages (from gradio) (0.1.2)\n",
            "Requirement already satisfied: httpx>=0.24.1 in /usr/local/lib/python3.11/dist-packages (from gradio) (0.28.1)\n",
            "Requirement already satisfied: huggingface-hub>=0.28.1 in /usr/local/lib/python3.11/dist-packages (from gradio) (0.29.3)\n",
            "Requirement already satisfied: jinja2<4.0 in /usr/local/lib/python3.11/dist-packages (from gradio) (3.1.6)\n",
            "Requirement already satisfied: markupsafe<4.0,>=2.0 in /usr/local/lib/python3.11/dist-packages (from gradio) (3.0.2)\n",
            "Requirement already satisfied: numpy<3.0,>=1.0 in /usr/local/lib/python3.11/dist-packages (from gradio) (2.0.2)\n",
            "Requirement already satisfied: orjson~=3.0 in /usr/local/lib/python3.11/dist-packages (from gradio) (3.10.15)\n",
            "Requirement already satisfied: packaging in /usr/local/lib/python3.11/dist-packages (from gradio) (24.2)\n",
            "Requirement already satisfied: pandas<3.0,>=1.0 in /usr/local/lib/python3.11/dist-packages (from gradio) (2.2.2)\n",
            "Requirement already satisfied: pillow<12.0,>=8.0 in /usr/local/lib/python3.11/dist-packages (from gradio) (11.1.0)\n",
            "Requirement already satisfied: pydantic>=2.0 in /usr/local/lib/python3.11/dist-packages (from gradio) (2.10.6)\n",
            "Requirement already satisfied: pydub in /usr/local/lib/python3.11/dist-packages (from gradio) (0.25.1)\n",
            "Requirement already satisfied: python-multipart>=0.0.18 in /usr/local/lib/python3.11/dist-packages (from gradio) (0.0.20)\n",
            "Requirement already satisfied: pyyaml<7.0,>=5.0 in /usr/local/lib/python3.11/dist-packages (from gradio) (6.0.2)\n",
            "Requirement already satisfied: ruff>=0.9.3 in /usr/local/lib/python3.11/dist-packages (from gradio) (0.11.2)\n",
            "Requirement already satisfied: safehttpx<0.2.0,>=0.1.6 in /usr/local/lib/python3.11/dist-packages (from gradio) (0.1.6)\n",
            "Requirement already satisfied: semantic-version~=2.0 in /usr/local/lib/python3.11/dist-packages (from gradio) (2.10.0)\n",
            "Requirement already satisfied: starlette<1.0,>=0.40.0 in /usr/local/lib/python3.11/dist-packages (from gradio) (0.46.1)\n",
            "Requirement already satisfied: tomlkit<0.14.0,>=0.12.0 in /usr/local/lib/python3.11/dist-packages (from gradio) (0.13.2)\n",
            "Requirement already satisfied: typer<1.0,>=0.12 in /usr/local/lib/python3.11/dist-packages (from gradio) (0.15.2)\n",
            "Requirement already satisfied: typing-extensions~=4.0 in /usr/local/lib/python3.11/dist-packages (from gradio) (4.12.2)\n",
            "Requirement already satisfied: uvicorn>=0.14.0 in /usr/local/lib/python3.11/dist-packages (from gradio) (0.34.0)\n",
            "Requirement already satisfied: fsspec in /usr/local/lib/python3.11/dist-packages (from gradio-client==1.8.0->gradio) (2025.3.0)\n",
            "Requirement already satisfied: websockets<16.0,>=10.0 in /usr/local/lib/python3.11/dist-packages (from gradio-client==1.8.0->gradio) (15.0.1)\n",
            "Requirement already satisfied: idna>=2.8 in /usr/local/lib/python3.11/dist-packages (from anyio<5.0,>=3.0->gradio) (3.10)\n",
            "Requirement already satisfied: sniffio>=1.1 in /usr/local/lib/python3.11/dist-packages (from anyio<5.0,>=3.0->gradio) (1.3.1)\n",
            "Requirement already satisfied: certifi in /usr/local/lib/python3.11/dist-packages (from httpx>=0.24.1->gradio) (2025.1.31)\n",
            "Requirement already satisfied: httpcore==1.* in /usr/local/lib/python3.11/dist-packages (from httpx>=0.24.1->gradio) (1.0.7)\n",
            "Requirement already satisfied: h11<0.15,>=0.13 in /usr/local/lib/python3.11/dist-packages (from httpcore==1.*->httpx>=0.24.1->gradio) (0.14.0)\n",
            "Requirement already satisfied: filelock in /usr/local/lib/python3.11/dist-packages (from huggingface-hub>=0.28.1->gradio) (3.18.0)\n",
            "Requirement already satisfied: requests in /usr/local/lib/python3.11/dist-packages (from huggingface-hub>=0.28.1->gradio) (2.32.3)\n",
            "Requirement already satisfied: tqdm>=4.42.1 in /usr/local/lib/python3.11/dist-packages (from huggingface-hub>=0.28.1->gradio) (4.67.1)\n",
            "Requirement already satisfied: python-dateutil>=2.8.2 in /usr/local/lib/python3.11/dist-packages (from pandas<3.0,>=1.0->gradio) (2.8.2)\n",
            "Requirement already satisfied: pytz>=2020.1 in /usr/local/lib/python3.11/dist-packages (from pandas<3.0,>=1.0->gradio) (2025.1)\n",
            "Requirement already satisfied: tzdata>=2022.7 in /usr/local/lib/python3.11/dist-packages (from pandas<3.0,>=1.0->gradio) (2025.1)\n",
            "Requirement already satisfied: annotated-types>=0.6.0 in /usr/local/lib/python3.11/dist-packages (from pydantic>=2.0->gradio) (0.7.0)\n",
            "Requirement already satisfied: pydantic-core==2.27.2 in /usr/local/lib/python3.11/dist-packages (from pydantic>=2.0->gradio) (2.27.2)\n",
            "Requirement already satisfied: click>=8.0.0 in /usr/local/lib/python3.11/dist-packages (from typer<1.0,>=0.12->gradio) (8.1.8)\n",
            "Requirement already satisfied: shellingham>=1.3.0 in /usr/local/lib/python3.11/dist-packages (from typer<1.0,>=0.12->gradio) (1.5.4)\n",
            "Requirement already satisfied: rich>=10.11.0 in /usr/local/lib/python3.11/dist-packages (from typer<1.0,>=0.12->gradio) (13.9.4)\n",
            "Requirement already satisfied: six>=1.5 in /usr/local/lib/python3.11/dist-packages (from python-dateutil>=2.8.2->pandas<3.0,>=1.0->gradio) (1.17.0)\n",
            "Requirement already satisfied: markdown-it-py>=2.2.0 in /usr/local/lib/python3.11/dist-packages (from rich>=10.11.0->typer<1.0,>=0.12->gradio) (3.0.0)\n",
            "Requirement already satisfied: pygments<3.0.0,>=2.13.0 in /usr/local/lib/python3.11/dist-packages (from rich>=10.11.0->typer<1.0,>=0.12->gradio) (2.18.0)\n",
            "Requirement already satisfied: charset-normalizer<4,>=2 in /usr/local/lib/python3.11/dist-packages (from requests->huggingface-hub>=0.28.1->gradio) (3.4.1)\n",
            "Requirement already satisfied: urllib3<3,>=1.21.1 in /usr/local/lib/python3.11/dist-packages (from requests->huggingface-hub>=0.28.1->gradio) (2.3.0)\n",
            "Requirement already satisfied: mdurl~=0.1 in /usr/local/lib/python3.11/dist-packages (from markdown-it-py>=2.2.0->rich>=10.11.0->typer<1.0,>=0.12->gradio) (0.1.2)\n"
          ]
        }
      ]
    },
    {
      "cell_type": "code",
      "source": [
        "import dill\n",
        "import gradio as gr\n",
        "import pandas as pd\n",
        "import numpy as np\n",
        "import matplotlib.pyplot as plt\n",
        "from datetime import datetime\n",
        "import time\n",
        "\n",
        "# Анимированные эмодзи\n",
        "animated_emojis = {\n",
        "    'up': '🔼✨',\n",
        "    'down': '🔽💸',\n",
        "    'alert': '🚨🚀',\n",
        "    'chart': '📈🔥',\n",
        "    'money': '💰🔄'\n",
        "}\n",
        "\n",
        "def detect_columns(df):\n",
        "    \"\"\"Автоматическое определение колонок с датами и ценами\"\"\"\n",
        "    date_col = None\n",
        "    price_col = None\n",
        "\n",
        "    # Ищем колонку с датами\n",
        "    for col in df.columns:\n",
        "        # Проверяем тип данных или название колонки\n",
        "        if pd.api.types.is_datetime64_any_dtype(df[col]):\n",
        "            date_col = col\n",
        "        elif 'date' in col.lower() or 'дата' in col.lower():\n",
        "            date_col = col\n",
        "            # Попробуем преобразовать в datetime, если это еще не сделано\n",
        "            try:\n",
        "                df[col] = pd.to_datetime(df[col])\n",
        "            except:\n",
        "                pass\n",
        "\n",
        "    # Ищем колонку с ценами\n",
        "    for col in df.columns:\n",
        "        if 'price' in col.lower() or 'цена' in col.lower() or 'армат' in col.lower():\n",
        "            price_col = col\n",
        "\n",
        "    # Если не нашли автоматически, берем первые подходящие колонки\n",
        "    if date_col is None:\n",
        "        for col in df.columns:\n",
        "            if pd.api.types.is_datetime64_any_dtype(df[col]):\n",
        "                date_col = col\n",
        "                break\n",
        "\n",
        "    if price_col is None:\n",
        "        for col in df.columns:\n",
        "            if pd.api.types.is_numeric_dtype(df[col]):\n",
        "                price_col = col\n",
        "                break\n",
        "\n",
        "    if date_col is None or price_col is None:\n",
        "        raise gr.Error(\"Не удалось автоматически определить колонки с датами и ценами. Убедитесь, что файл содержит колонки с датами и ценами на арматуру.\")\n",
        "\n",
        "    return date_col, price_col\n",
        "\n",
        "def load_model():\n",
        "    \"\"\"Загрузка модели с возвратом статуса\"\"\"\n",
        "    try:\n",
        "        with open('/content/drive/MyDrive/ML_3/model (1).pkl', 'rb') as f:\n",
        "            model_data = dill.load(f)\n",
        "        time.sleep(1)  # Искусственная задержка для эффекта\n",
        "        return model_data['model'], model_data['predict_N'], f\"✅ Модель загружена! {animated_emojis['chart']}\"\n",
        "    except Exception as e:\n",
        "        raise gr.Error(f\"❌ Ошибка загрузки: {str(e)}\")\n",
        "\n",
        "def create_plot(df, date_col, price_col, forecast_col):\n",
        "    \"\"\"Создание графика с визуальными эффектами\"\"\"\n",
        "    fig, ax = plt.subplots(figsize=(14, 7))\n",
        "\n",
        "    # Основные линии\n",
        "    ax.plot(df[date_col], df[price_col], 'b-', label='Цена', marker='o', markersize=8)\n",
        "    norm_forecast = (df[forecast_col] / df[forecast_col].max() * df[price_col].max())\n",
        "    ax.plot(df[date_col], norm_forecast, 'r--', label='Прогноз (норм.)', marker='x', markersize=8)\n",
        "\n",
        "    # Цветные точки для рекомендаций\n",
        "    for i, row in df.iterrows():\n",
        "        color = 'green' if row[forecast_col] == 6 else 'yellow' if row[forecast_col] >=4 else 'red'\n",
        "        size = 150 if row[forecast_col] ==6 else 100 if row[forecast_col] >=4 else 70\n",
        "        ax.scatter(row[date_col], row[price_col], c=color, s=size,\n",
        "                  label=f'Недель роста: {row[forecast_col]}' if i == 0 else \"\")\n",
        "\n",
        "    ax.set_title(f'Динамика цен {animated_emojis[\"chart\"]}', fontsize=14, pad=20)\n",
        "    ax.set_xlabel('Дата', fontsize=12)\n",
        "    ax.set_ylabel('Цена / Норм. объем', fontsize=12)\n",
        "    ax.legend(fontsize=12)\n",
        "    ax.grid(True, alpha=0.3)\n",
        "    plt.xticks(rotation=45)\n",
        "    plt.tight_layout()\n",
        "    return fig\n",
        "\n",
        "def generate_recommendation(N):\n",
        "    \"\"\"Генерация рекомендации с эмодзи\"\"\"\n",
        "    if N == 6:\n",
        "        return f\"🚨 СРОЧНАЯ ЗАКУПКА! {animated_emojis['alert']}\\nЦена будет расти 6+ недель {animated_emojis['up']}\"\n",
        "    elif N >= 4:\n",
        "        return f\"🟢 Рекомендуется закупиться {animated_emojis['money']}\\nЦена будет расти {N} недель {animated_emojis['up']}\"\n",
        "    else:\n",
        "        return f\"🔴 Не закупаться {animated_emojis['down']}\\nЦена не будет расти {animated_emojis['down']}\"\n",
        "\n",
        "def predict_with_effects(file, progress=gr.Progress()):\n",
        "    \"\"\"Основная функция с обработкой файла\"\"\"\n",
        "    try:\n",
        "        status_messages = [\"⏳ Начинаем анализ...\"]\n",
        "\n",
        "        # Загрузка модели\n",
        "        model, predict_N, model_status = load_model()\n",
        "        status_messages.append(model_status)\n",
        "\n",
        "        # Чтение файла\n",
        "        test_table = pd.read_excel(file)\n",
        "        date_col, price_col = detect_columns(test_table)\n",
        "        status_messages.append(\"📂 Файл успешно прочитан\")\n",
        "\n",
        "        # Прогнозирование\n",
        "        test_table['Прогноз_недель'] = 0\n",
        "        for i in progress.tqdm(range(len(test_table)), desc=\"Обработка\"):\n",
        "            test_table.loc[i, 'Прогноз_недель'] = predict_N(\n",
        "                test_table.loc[i, date_col],\n",
        "                test_table.loc[i, price_col],\n",
        "                model\n",
        "            )\n",
        "            time.sleep(0.05)\n",
        "\n",
        "        status_messages.append(\"🔍 Анализ данных завершен\")\n",
        "\n",
        "        # Генерация рекомендаций\n",
        "        test_table['Рекомендация'] = test_table['Прогноз_недель'].apply(generate_recommendation)\n",
        "        status_messages.append(\"📊 Рекомендации сформированы\")\n",
        "\n",
        "        # Создание графика\n",
        "        fig = create_plot(test_table, date_col, price_col, 'Прогноз_недель')\n",
        "        status_messages.append(\"🎨 Визуализация готова\")\n",
        "\n",
        "        # Сохранение результатов\n",
        "        output_path = '/content/результат_с_эффектами.xlsx'\n",
        "        test_table.to_excel(output_path, index=False)\n",
        "        status_messages.append(f\"✅ Анализ завершен! {animated_emojis['chart']}\")\n",
        "\n",
        "        return (\n",
        "            output_path,\n",
        "            test_table[[date_col, price_col, 'Прогноз_недель', 'Рекомендация']],\n",
        "            fig,\n",
        "            \"\\n\".join(status_messages)\n",
        "        )\n",
        "\n",
        "    except Exception as e:\n",
        "        raise gr.Error(f\"Ошибка: {str(e)}\")\n",
        "\n",
        "# css\n",
        "custom_css = \"\"\"\n",
        "@keyframes pulse {\n",
        "  0% { transform: scale(1); }\n",
        "  50% { transform: scale(1.05); }\n",
        "  100% { transform: scale(1); }\n",
        "}\n",
        ".btn-primary {\n",
        "    animation: pulse 2s infinite;\n",
        "    background: linear-gradient(90deg, #4a6baf, #6a8fd8);\n",
        "    color: white;\n",
        "    border: none;\n",
        "}\n",
        ".status-box {\n",
        "    background: #f8f9fa;\n",
        "    padding: 10px;\n",
        "    border-radius: 5px;\n",
        "    margin-bottom: 10px;\n",
        "    text-align: center;\n",
        "}\n",
        "\"\"\"\n",
        "\n",
        "with gr.Blocks(theme=gr.themes.Soft(), css=custom_css) as demo:\n",
        "    gr.Markdown(\"\"\"\n",
        "    <div style='text-align: center;'>\n",
        "    <h1 style='color: #4a6baf;'>🏗️ Smart Steel Advisor</h1>\n",
        "    <p>Интеллектуальная система прогнозирования цен на арматуру</p>\n",
        "    </div>\n",
        "    \"\"\")\n",
        "\n",
        "    with gr.Row(variant=\"panel\"):\n",
        "        with gr.Column(scale=2):\n",
        "            gr.Markdown(\"### 📤 Загрузите данные\")\n",
        "            file_input = gr.File(label=\"Excel-файл с историей цен\",\n",
        "                               file_types=[\".xlsx\", \".xls\"])\n",
        "            submit_btn = gr.Button(\"Запустить анализ\", variant=\"primary\", elem_classes=[\"btn-primary\"])\n",
        "\n",
        "            with gr.Accordion(\"📚 Вся информация\", open=False):\n",
        "                with gr.Accordion(\"📝 Инструкция по использованию\", open=False):\n",
        "                    gr.Markdown(\"\"\"\n",
        "                    <div style='padding: 10px; background: #ff0000; border-radius: 8px;'>\n",
        "                    <h4 style='margin-top: 0;'>💡 Основные требования:</h4>\n",
        "                    <ul>\n",
        "                        <li>Файл должен содержать колонки с <b>датами</b> и <b>ценами</b> на арматуру</li>\n",
        "                        <li>Названия колонок определяются автоматически (ищут слова \"дата\", \"цена\", \"армат\")</li>\n",
        "                        <li>Поддерживаются форматы: <code>.xlsx</code>, <code>.xls</code></li>\n",
        "                        <li>Минимальный объем данных - 10 записей для точного прогноза</li>\n",
        "                    </ul>\n",
        "                    </div>\n",
        "                    \"\"\")\n",
        "\n",
        "                with gr.Accordion(\"🎨 Как читать результаты\", open=False):\n",
        "                    gr.Markdown(\"\"\"\n",
        "                    <div style='padding: 10px; background: #; border-radius: 8px;'>\n",
        "                    <h4 style='margin-top: 0;'>📊 Легенда графика:</h4>\n",
        "                    <ul>\n",
        "                        <li><span style='color: #28a745; font-weight: bold;'>● Зеленые точки</span> - Срочная закупка (6+ недель роста)</li>\n",
        "                        <li><span style='color: #ffc107; font-weight: bold;'>● Желтые точки</span> - Рекомендуемая закупка (4-5 недель)</li>\n",
        "                        <li><span style='color: #dc3545; font-weight: bold;'>● Красные точки</span> - Не закупаться (1-3 недели)</li>\n",
        "                        <li><span style='color: #007bff; font-weight: bold;'>─ Синяя линия</span> - Фактические цены</li>\n",
        "                        <li><span style='color: #dc3545; font-weight: bold;'>-- Красная линия</span> - Прогноз (нормализованный)</li>\n",
        "                    </ul>\n",
        "\n",
        "                    <h4 style='margin-top: 15px;'>📋 Формат результатов:</h4>\n",
        "                    <ul>\n",
        "                        <li>Исходные данные сохраняются полностью</li>\n",
        "                        <li>Добавляется колонка <code>Прогноз_недель</code> с числом недель роста</li>\n",
        "                        <li>Колонка <code>Рекомендация</code> содержит текстовый совет</li>\n",
        "                    </ul>\n",
        "                    </div>\n",
        "                    \"\"\")\n",
        "\n",
        "        with gr.Column(scale=3):\n",
        "            model_status = gr.Textbox(label=\"Статус системы\", value=\"🟢 Готов к работе\",\n",
        "                                    elem_classes=[\"status-box\"])\n",
        "            with gr.Tabs():\n",
        "                with gr.TabItem(\"📈 График\"):\n",
        "                    plot_output = gr.Plot(label=\"Динамика цен\")\n",
        "                with gr.TabItem(\"📋 Таблица\"):\n",
        "                    results_table = gr.Dataframe(\n",
        "                        label=\"Рекомендации по закупкам\",\n",
        "                        headers=[\"Дата\", \"Цена\", \"Недель роста\", \"Рекомендация\"],\n",
        "                        datatype=[\"str\", \"number\", \"number\", \"str\"]\n",
        "                    )\n",
        "                with gr.TabItem(\"💾 Скачать\"):\n",
        "                    file_output = gr.File(label=\"Полный отчет\")\n",
        "\n",
        "    submit_btn.click(\n",
        "        fn=predict_with_effects,\n",
        "        inputs=file_input,\n",
        "        outputs=[file_output, results_table, plot_output, model_status],\n",
        "        api_name=\"predict\"\n",
        "    )\n",
        "\n",
        "if __name__ == \"__main__\":\n",
        "    demo.launch(share=True)"
      ],
      "metadata": {
        "colab": {
          "base_uri": "https://localhost:8080/",
          "height": 591
        },
        "id": "Ncek8isCm0A3",
        "outputId": "6456e235-9e24-422c-91b0-9955cb1b6ecd"
      },
      "execution_count": 26,
      "outputs": [
        {
          "output_type": "stream",
          "name": "stdout",
          "text": [
            "Colab notebook detected. To show errors in colab notebook, set debug=True in launch()\n",
            "* Running on public URL: https://22ab67fe61538072ca.gradio.live\n",
            "\n",
            "This share link expires in 72 hours. For free permanent hosting and GPU upgrades, run `gradio deploy` from the terminal in the working directory to deploy to Hugging Face Spaces (https://huggingface.co/spaces)\n"
          ]
        },
        {
          "output_type": "display_data",
          "data": {
            "text/plain": [
              "<IPython.core.display.HTML object>"
            ],
            "text/html": [
              "<div><iframe src=\"https://22ab67fe61538072ca.gradio.live\" width=\"100%\" height=\"500\" allow=\"autoplay; camera; microphone; clipboard-read; clipboard-write;\" frameborder=\"0\" allowfullscreen></iframe></div>"
            ]
          },
          "metadata": {}
        }
      ]
    }
  ]
}