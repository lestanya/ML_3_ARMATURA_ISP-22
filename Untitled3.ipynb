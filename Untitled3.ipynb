{
  "nbformat": 4,
  "nbformat_minor": 0,
  "metadata": {
    "colab": {
      "provenance": []
    },
    "kernelspec": {
      "name": "python3",
      "display_name": "Python 3"
    },
    "language_info": {
      "name": "python"
    }
  },
  "cells": [
    {
      "cell_type": "code",
      "execution_count": null,
      "metadata": {
        "id": "cLh46wRFQKvQ"
      },
      "outputs": [],
      "source": [
        "import pandas as pd\n",
        "import numpy as np\n",
        "import matplotlib.pyplot as plt\n",
        "from sklearn.linear_model import LinearRegression, LogisticRegression\n",
        "from sklearn.ensemble import RandomForestRegressor\n",
        "from sklearn.preprocessing import StandardScaler\n",
        "from sklearn.model_selection import train_test_split\n",
        "from sklearn.metrics import accuracy_score, mean_absolute_error\n",
        "from statsmodels.tsa.stattools import adfuller\n",
        "\n",
        "# Загрузка данных\n",
        "data = pd.read_excel('train.xlsx')"
      ]
    },
    {
      "cell_type": "code",
      "source": [
        "# Очистка выбросов с помощью Local Outlier Factor\n",
        "from sklearn.neighbors import LocalOutlierFactor\n",
        "lof = LocalOutlierFactor(n_neighbors=20, contamination=0.05)\n",
        "outliers = lof.fit_predict(data[['Цена на арматуру']])\n",
        "data = data[outliers == 1]\n",
        "\n",
        "data['dt'] = pd.to_datetime(data['dt'])\n",
        "data.set_index('dt', inplace=True)"
      ],
      "metadata": {
        "id": "9Uc8TqyBQSKs"
      },
      "execution_count": null,
      "outputs": []
    },
    {
      "cell_type": "code",
      "source": [
        "# Проверка стационарности\n",
        "result = adfuller(data['Цена на арматуру'])\n",
        "print(f'ADF Statistic: {result[0]}')\n",
        "print(f'p-value: {result[1]}')"
      ],
      "metadata": {
        "id": "CrBEJeLOQU4t"
      },
      "execution_count": null,
      "outputs": []
    },
    {
      "cell_type": "code",
      "source": [
        "# Линейная регрессия для прогноза цен\n",
        "X = np.array(range(len(data))).reshape(-1, 1)\n",
        "y = data['Цена на арматуру'].values\n",
        "\n",
        "model = LinearRegression().fit(X, y)\n",
        "plt.figure(figsize=(10, 5))\n",
        "plt.plot(data.index, y, label='Реальные данные')\n",
        "plt.plot(data.index, model.predict(X), label='Линейная регрессия', color='red')\n",
        "plt.legend()\n",
        "plt.show()"
      ],
      "metadata": {
        "id": "XmaUwobgQW_y"
      },
      "execution_count": null,
      "outputs": []
    },
    {
      "cell_type": "code",
      "source": [
        "# Создание целевой переменной для логистической регрессии (рост/падение)\n",
        "data['target'] = (data['Цена на арматуру'].diff() > 0).astype(int)\n",
        "data.dropna(inplace=True)\n",
        "\n",
        "X_class = np.array(range(len(data))).reshape(-1, 1)\n",
        "y_class = data['target']\n",
        "\n",
        "X_train, X_test, y_train, y_test = train_test_split(X_class, y_class, test_size=0.2, random_state=42)\n",
        "\n",
        "log_model = LogisticRegression()\n",
        "log_model.fit(X_train, y_train)\n",
        "y_pred = log_model.predict(X_test)\n",
        "\n",
        "print(f'Accuracy логистической регрессии: {accuracy_score(y_test, y_pred)}')\n"
      ],
      "metadata": {
        "id": "8brnwIsOQae7"
      },
      "execution_count": null,
      "outputs": []
    },
    {
      "cell_type": "code",
      "source": [
        "# Прогнозирование цены с помощью случайного леса\n",
        "X_train, X_test, y_train, y_test = train_test_split(X, y, test_size=0.2, random_state=42)\n",
        "rf_model = RandomForestRegressor(n_estimators=100, random_state=42)\n",
        "rf_model.fit(X_train, y_train)\n",
        "y_pred_rf = rf_model.predict(X_test)\n",
        "\n",
        "print(f'MAE случайного леса: {mean_absolute_error(y_test, y_pred_rf)}')\n",
        "\n",
        "plt.figure(figsize=(10, 5))\n",
        "plt.plot(data.index[-len(y_test):], y_test, label='Реальные данные')\n",
        "plt.plot(data.index[-len(y_test):], y_pred_rf, label='Random Forest', color='green')\n",
        "plt.legend()\n",
        "plt.show()"
      ],
      "metadata": {
        "id": "oK9vvodAQdxP"
      },
      "execution_count": null,
      "outputs": []
    }
  ]
}